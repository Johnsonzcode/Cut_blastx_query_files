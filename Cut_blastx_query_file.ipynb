{
 "cells": [
  {
   "cell_type": "code",
   "execution_count": null,
   "metadata": {},
   "outputs": [],
   "source": [
    "# !usr/bin/python3\n",
    "# Function: cutting the blastx query file into several files\n",
    "\n",
    "\n",
    "print('Start reads number counting and copy all the reads to list ...')\n",
    "###################################################################\n",
    "with open('GHJL01.2.fsa_nt') as f:\n",
    "    # the number of reads\n",
    "    n_reads = 0\n",
    "    # the list of all reads sequence\n",
    "    all_reads = []\n",
    "    # the list of the lines of a read\n",
    "    read = []\n",
    "    while 1:\n",
    "        l = f.readline()\n",
    "        if l == '':\n",
    "            all_reads.append(read)\n",
    "            read = []\n",
    "            n_reads += 1\n",
    "            break\n",
    "        elif l.startswith('>') and len(read) != 0:\n",
    "            all_reads.append(read)\n",
    "            read = []\n",
    "            read.append(l)\n",
    "            n_reads += 1\n",
    "        else:\n",
    "            read.append(l)\n",
    "print('Done!')\n",
    "print('The number of all reads is ',n_reads)\n",
    "\n",
    "print('Start cutting list ...')\n",
    "#########################################\n",
    "# the number of reads that in one file\n",
    "n = round(n_reads/10)\n",
    "# the reads already have been put in file\n",
    "rn = 0\n",
    "print('Creat files to contain reads ...')\n",
    "for x in range(10):\n",
    "    f = open('GHJL01.2.fsa_nt'+str(x),'w')\n",
    "    for i in all_reads[x*n:]:\n",
    "        for y in i:\n",
    "            f.write(y)\n",
    "        rn += 1\n",
    "        if rn == (x+1)*n-1:\n",
    "            f.close()\n",
    "            break\n",
    "else:\n",
    "    f.close()\n",
    "    print('Done!')"
   ]
  },
  {
   "cell_type": "code",
   "execution_count": 35,
   "metadata": {},
   "outputs": [
    {
     "name": "stdout",
     "output_type": "stream",
     "text": [
      "4575920\n"
     ]
    }
   ],
   "source": []
  },
  {
   "cell_type": "code",
   "execution_count": null,
   "metadata": {},
   "outputs": [],
   "source": []
  }
 ],
 "metadata": {
  "kernelspec": {
   "display_name": "Python 3",
   "language": "python",
   "name": "python3"
  },
  "language_info": {
   "codemirror_mode": {
    "name": "ipython",
    "version": 3
   },
   "file_extension": ".py",
   "mimetype": "text/x-python",
   "name": "python",
   "nbconvert_exporter": "python",
   "pygments_lexer": "ipython3",
   "version": "3.7.6"
  }
 },
 "nbformat": 4,
 "nbformat_minor": 4
}
