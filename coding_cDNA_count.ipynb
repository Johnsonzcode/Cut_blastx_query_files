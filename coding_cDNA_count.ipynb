{
 "cells": [
  {
   "cell_type": "code",
   "execution_count": 72,
   "metadata": {},
   "outputs": [
    {
     "name": "stdout",
     "output_type": "stream",
     "text": [
      "All cDNA count: 27688\n",
      "All cDNA mean length: 2425.4004622941347\n",
      "All cDNA length median: 1984.5\n",
      "Coding cDNA count: 27330\n",
      "Coding cDNA percent: 0.9870702109216989\n"
     ]
    }
   ],
   "source": [
    "import numpy as np\n",
    "\n",
    "# all cDNA sequence list\n",
    "cDNA_list = []\n",
    "# each cDNA sequence\n",
    "cDNA = []\n",
    "# each coding cDNA sequence length list \n",
    "cDNA_len_l = []\n",
    "# coding cDNA \n",
    "c = 0\n",
    "\n",
    "# find cDNA\n",
    "with open(\"Anas_platyrhynchos.ASM874695v1.cdna.all.fa\") as f:\n",
    "    while 1:\n",
    "        l = f.readline()\n",
    "        if l == '':\n",
    "            break\n",
    "        else:\n",
    "            l=l.strip()\n",
    "            if l[0] == '>'and len(cDNA) != 0:\n",
    "                cDNA_list.append(''.join(cDNA))\n",
    "                cDNA = []\n",
    "            elif l[0] == '>' and len(cDNA) == 0:\n",
    "                pass\n",
    "            else:\n",
    "                cDNA.append(l)\n",
    "    cDNA_list.append(''.join(cDNA))\n",
    "    \n",
    "    # count cDNA length and number\n",
    "    for i in cDNA_list:\n",
    "        cDNA_len_l.append(len(i))\n",
    "    \n",
    "    # find it codes or not\n",
    "    for i in cDNA_list:\n",
    "        for s in range(len(i)-2):\n",
    "            if i[s:s+3] == 'ATG':\n",
    "                for e in range(s+3,len(i)-2,3):\n",
    "                    if i[e:e+3] == 'TAA' or i[e:e+3] == 'TGA' or i[e:e+3] == 'TAG':\n",
    "                        c += 1\n",
    "                        break\n",
    "                break\n",
    "    print(\"All cDNA count:\",len(cDNA_len_l))\n",
    "    print(\"All cDNA mean length:\",np.mean(cDNA_len_l))\n",
    "    print(\"All cDNA length median:\",np.median(cDNA_len_l))\n",
    "    print(\"Coding cDNA count:\",c)\n",
    "    print(\"Coding cDNA percent:\",c/len(cDNA_len_l))"
   ]
  },
  {
   "cell_type": "code",
   "execution_count": 21,
   "metadata": {},
   "outputs": [
    {
     "name": "stdout",
     "output_type": "stream",
     "text": [
      ">ENSAPLT00000000572.1 cdna scaffold:BGI_duck_1.0:KB743139.1:1013010:1013462:1 gene:ENSAPLG00000000568.1 gene_biotype:protein_coding transcript_biotype:protein_coding gene_symbol:CEBPG description:CCAAT/enhancer binding protein gamma [Source:HGNC Symbol;Acc:HGNC:1837]\n",
      "ATGAGCAAGACATCCCAACAGAACACCGCTACAGATGCGAACGGAGTAAGTGTGATTCAC\n",
      "ACCCAGGCGCACACCAGTGGTTTGCAGCAGGTTCCCCAGCTGGTTCCCGTTAGTCCTGGT\n",
      "GGTGGAGGCAAAGCTGTGCCTCCAAGCAAACAGGGAAAGAAAAATTCCTTTGTGGATAGA\n",
      "AACAGTGATGAGTATCGTCAGCGCAGAGAGCGGAACAACATGGCAGTGAAAAAGAGCCGG\n",
      "TTAAAAAGCAAGCAGAAAGCACAAGACACGCTGCAGAGGGTCACCCAGCTCAAAGAAGAA\n",
      "AATGAACGTTTGGAGGCAAAAATTAAGCTCCTAACCAAGGAGCTGAGTGTACTGAAAGAC\n",
      "TTGTTCCTTGAGCACGCACACAACCTCGCAGACAATGTGCAACCTGTTGGCACTGAAACC\n",
      "ACCACAACAAACCCAGAGAACAGCGGACAGTAG\n",
      ">ENSAPLT00000000568.1 cdna scaffold:BGI_duck_1.0:KB754908.1:416:750:-1 gene:ENSAPLG00000000570.1 gene_biotype:protein_coding transcript_biotype:protein_coding\n",
      "CAGGAGACCCGGATCCGCGCCACGGAGCAGGAGGCGCGCGGGAAGCTGCACAGCATGTCC\n",
      "GTCACCAACCGCTACGGGGCCGAGGAGGTGACCCACACGCTGCTGGCCGAGAGCCGCGCC\n",
      "GAGACGCAGCGCTGGATGGAGGCCTTCTGGCAGCACTTCTACGACATGAGCCAGTGGAAG\n",
      "CAGTGCTGTGACGAGCTGATGCGCATCGAGGTGCCACCGCCGCGCCGGCCGCCTGCCCCC\n",
      "CTGCCCCGGCAG\n",
      ">ENSAPLT00000000569.1 cdna scaffold:BGI_duck_1.0:KB742880.1:68237:68437:1 gene:ENSAPLG00000000571.1 gene_biotype:protein_coding transcript_biotype:protein_coding\n",
      "AGGCCCAAGAACGCCACCCGGGAGAGCACCAGCACCCTCAAGGCCTGGCTCAACGAGCAC\n",
      "CGCAAGAACCCCTACCCCACCAAGGGCGAGAAGATCATGCTGGCCATCATCACCAAGATG\n",
      "ACCCTCACCCAGGTCTCCACCTGGTTCGCCAACGCGCGGCGGAGGCTCAAGAAGGAGAAC\n",
      "AAGATGACCTGGGCCCCCCGC\n"
     ]
    }
   ],
   "source": [
    "with open(\"Anas_platyrhynchos.BGI_duck_1.0.cdna.all.fa\") as f:\n",
    "    for i in range(20):\n",
    "        l = f.readline().strip()\n",
    "        print(l)\n",
    "        \n"
   ]
  },
  {
   "cell_type": "code",
   "execution_count": 69,
   "metadata": {},
   "outputs": [
    {
     "name": "stdout",
     "output_type": "stream",
     "text": [
      "12 15 TAA\n"
     ]
    }
   ],
   "source": [
    "s = 'ATGjfuirujkjTAA'\n",
    "for i in range(len(s)-2):\n",
    "    if s[i:i+3] == 'ATG':\n",
    "        for y in range(i+3,len(s)-2,3):\n",
    "            if s[y:y+3] == 'TAA':\n",
    "                print(y,y+3,s[y:y+3])\n",
    "                break\n",
    "                break"
   ]
  },
  {
   "cell_type": "code",
   "execution_count": null,
   "metadata": {},
   "outputs": [],
   "source": []
  }
 ],
 "metadata": {
  "kernelspec": {
   "display_name": "Python 3",
   "language": "python",
   "name": "python3"
  },
  "language_info": {
   "codemirror_mode": {
    "name": "ipython",
    "version": 3
   },
   "file_extension": ".py",
   "mimetype": "text/x-python",
   "name": "python",
   "nbconvert_exporter": "python",
   "pygments_lexer": "ipython3",
   "version": "3.7.6"
  }
 },
 "nbformat": 4,
 "nbformat_minor": 4
}
